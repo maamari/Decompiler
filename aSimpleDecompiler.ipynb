{
 "cells": [
  {
   "cell_type": "markdown",
   "metadata": {},
   "source": [
    "# A Simple Decoder"
   ]
  },
  {
   "cell_type": "markdown",
   "metadata": {},
   "source": [
    "Karime Maamari"
   ]
  },
  {
   "cell_type": "markdown",
   "metadata": {},
   "source": [
    "---"
   ]
  },
  {
   "cell_type": "markdown",
   "metadata": {},
   "source": [
    "This exercise is concerned with the \"decompilation\" of some set of the following input instructions:\n",
    "1. **PUSH \"N\":** Pushes the given integer, N, onto the stack\n",
    "2. **ADD:** Pops the two top values from the stack, adds them, and pushes the result\n",
    "3. **SUB:** Pops the two top values from the stack, *subtracts* them, and pushes the result\n",
    "4. **MUL:** Pops the two top values from the stack, *multiplies* them, and pushes the result\n",
    "5. **SWAP:** Swaps the top two numbers from the stack"
   ]
  },
  {
   "cell_type": "markdown",
   "metadata": {},
   "source": [
    "As an example, consider the following set of commands:\n",
    "1. PUSH 1\n",
    "2. PUSH 2\n",
    "3. PUSH 3\n",
    "4. MUL\n",
    "5. ADD"
   ]
  },
  {
   "cell_type": "markdown",
   "metadata": {},
   "source": [
    "First, we push the values 1, 2, and 3 onto the stack"
   ]
  },
  {
   "cell_type": "code",
   "execution_count": 1,
   "metadata": {},
   "outputs": [
    {
     "name": "stdout",
     "output_type": "stream",
     "text": [
      "----\n",
      " 3 \n",
      "----\n",
      "\n",
      "----\n",
      " 2 \n",
      "----\n",
      "\n",
      "----\n",
      " 1 \n",
      "----\n",
      "\n"
     ]
    }
   ],
   "source": [
    "stack = [\"3\",\"2\",\"1\"]\n",
    "for instruction in stack:\n",
    "    print(\"----\\n\",instruction,\"\\n----\\n\")"
   ]
  },
  {
   "cell_type": "markdown",
   "metadata": {},
   "source": [
    "Then MUL pops off the top two terms and pushes their product onto the stack"
   ]
  },
  {
   "cell_type": "code",
   "execution_count": 219,
   "metadata": {},
   "outputs": [
    {
     "name": "stdout",
     "output_type": "stream",
     "text": [
      "----\n",
      " 3*2 \n",
      "----\n",
      "\n",
      "----\n",
      " 1 \n",
      "----\n",
      "\n"
     ]
    }
   ],
   "source": [
    "stack = [\"3*2\",\"1\"]\n",
    "for instruction in stack:\n",
    "    print(\"----\\n\",instruction,\"\\n----\\n\")"
   ]
  },
  {
   "cell_type": "markdown",
   "metadata": {},
   "source": [
    "And, finally, ADD pops off these two values and pushes their sum back onto the stack"
   ]
  },
  {
   "cell_type": "code",
   "execution_count": 221,
   "metadata": {},
   "outputs": [
    {
     "name": "stdout",
     "output_type": "stream",
     "text": [
      "-------\n",
      " 3*2+1 \n",
      "-------\n",
      "\n"
     ]
    }
   ],
   "source": [
    "print(\"-------\\n\",\"3*2+1\",\"\\n-------\\n\")"
   ]
  },
  {
   "cell_type": "markdown",
   "metadata": {},
   "source": [
    "The simplifier will then simplify this expression to $7$ and output to user"
   ]
  },
  {
   "cell_type": "markdown",
   "metadata": {},
   "source": [
    "Continue to the input handler (two cells below) to use the decompiler"
   ]
  },
  {
   "cell_type": "markdown",
   "metadata": {},
   "source": [
    "---"
   ]
  },
  {
   "cell_type": "markdown",
   "metadata": {},
   "source": [
    "### The Decompiler class"
   ]
  },
  {
   "cell_type": "code",
   "execution_count": 213,
   "metadata": {},
   "outputs": [],
   "source": [
    "class Decompiler:\n",
    "    \n",
    "    def __init__(self):\n",
    "        \"\"\"\n",
    "        Object initialization\n",
    "        \n",
    "        Parameters:\n",
    "        -----------\n",
    "        stack: arr\n",
    "            The stack object to be manipulated\n",
    "        count: int\n",
    "            Used to set variable names\n",
    "        alphabet: list\n",
    "            Variable names starting with xyz, then moving to the top of the alphabet\n",
    "        \"\"\"\n",
    "        \n",
    "        self.stack = []\n",
    "        self.count = 0\n",
    "        self.alphabet = list(\"xyzabcdefghijklmnopqrstuvw\")\n",
    "        \n",
    "    def push(self, element):        \n",
    "        \"\"\"\n",
    "        Pushes element into stack\n",
    "        \n",
    "        Parameters:\n",
    "        -----------\n",
    "        element: int\n",
    "            value to be placed onto the stack\n",
    "        \"\"\"\n",
    "        \n",
    "        self.stack.append(str(element))\n",
    "        \n",
    "    def pop(self):\n",
    "        \"\"\"\n",
    "        Pops element from stack\n",
    "        \"\"\"\n",
    "        \n",
    "        if len(self.stack):\n",
    "            return self.stack.pop()\n",
    "        \n",
    "    def operationHelper(self, operation):\n",
    "        \"\"\"\n",
    "        Helper function for operations.\n",
    "        All operations require the general logic:\n",
    "          1. If two or more terms exist, operate between the terms\n",
    "          2. If one term exists, operate between term and variable\n",
    "          3. If no terms exist, operate between two variables\n",
    "        So we can generalize, feeding in the operation type as input\n",
    "        \n",
    "        Parameters:\n",
    "        -----------\n",
    "        operation: string\n",
    "            Type of operation (\"+\", \"-\", or \"*\")\n",
    "        \"\"\"\n",
    "        \n",
    "        stackLength = len(self.stack)\n",
    "        \n",
    "        # Normal operation between two terms\n",
    "        if stackLength >= 2:\n",
    "            firstTerm = self.pop()\n",
    "            secondTerm = self.pop()\n",
    "            expression = \"(\"+firstTerm+\"{}\".format(operation)+secondTerm+\")\"\n",
    "        \n",
    "        # Only one term on stack\n",
    "        elif stackLength == 1:\n",
    "            firstTerm = self.pop()\n",
    "            expression = \"(\"+self.alphabet[self.count]+\"{}\".format(operation)+firstTerm+\")\"\n",
    "            self.count= self.count + 1\n",
    "            \n",
    "        # No terms on stack\n",
    "        else:\n",
    "            expression = \"(\"+self.alphabet[self.count]+\"{}\".format(operation)+self.alphabet[self.count+1]+\")\"\n",
    "            self.count+=2\n",
    "        \n",
    "        expressionArr = list(expression)\n",
    "        for index in range(len(expressionArr)):\n",
    "            if expressionArr[index]=='+' and expressionArr[index+1]=='-':\n",
    "                expressionArr[index]='-'\n",
    "                del expressionArr[index+1]\n",
    "        self.push(''.join(expressionArr))\n",
    "\n",
    "    def add(self):\n",
    "        \"\"\"\n",
    "        Addition operation\n",
    "        \"\"\"\n",
    "        \n",
    "        self.operationHelper(\"+\")\n",
    "            \n",
    "    def sub(self):\n",
    "        \"\"\"\n",
    "        Subtraction operation\n",
    "        \"\"\"\n",
    "        \n",
    "        self.operationHelper(\"-\")\n",
    "            \n",
    "    def mul(self):\n",
    "        \"\"\"\n",
    "        Multiplication operation\n",
    "        \"\"\"\n",
    "\n",
    "        self.operationHelper(\"*\")\n",
    "            \n",
    "    def swap(self):\n",
    "        \"\"\"\n",
    "        Swap the 2 elements in the stack\n",
    "        \"\"\"\n",
    "        \n",
    "        if len(self.stack) >= 2:\n",
    "            firstTerm = self.pop()\n",
    "            secondTerm = self.pop()\n",
    "            self.push(firstTerm)\n",
    "            self.push(secondTerm)\n",
    "            \n",
    "    def expression(self,output=False):\n",
    "        \"\"\"\n",
    "        Returns:\n",
    "        -------\n",
    "        The expression on the top of the stack\n",
    "        \"\"\"\n",
    "        if output: print(self.stack[0])\n",
    "        return self.stack[0]\n",
    "    \n",
    "    def combinationHelper(self, string, firstIntIndex, operation):\n",
    "        \"\"\"\n",
    "        Combines like terms within the already \"simplified\" expression\n",
    "        For example: 3+x+y+2 -> 5+x+y\n",
    "                     3*x*y*2 -> 6*x*y\n",
    "        \n",
    "        Parameters:\n",
    "        -----------\n",
    "        string: list\n",
    "            The current state of the simplified string\n",
    "        firstIntIndex: int\n",
    "            The position of the first integer\n",
    "        operation: string\n",
    "            The type of operation, either '*' for multiplication or '+-' for addition/subtraction\n",
    "            \n",
    "        Returns:\n",
    "        --------\n",
    "        string: list\n",
    "            The string with all combinations taken care of\n",
    "        \"\"\"\n",
    "        # First multiplicative int\n",
    "        combinedTerms=int(string[firstIntIndex])\n",
    "        # Indexer for this loop\n",
    "        indexer=firstIntIndex+1\n",
    "\n",
    "        # Loop through string and combine all multiplicative terms\n",
    "        while indexer<len(string):\n",
    "            deletionFlag=0\n",
    "            currentIsDigit = string[indexer].isdigit()\n",
    "            prevIsAddSub = (string[indexer-1]=='+' or string[indexer-1]=='-')\n",
    "            prevIsMult = string[indexer-1]=='*'\n",
    "            atEnd = indexer==len(string)-1\n",
    "            \n",
    "            # If multiplication and the current char is an int and the previous term\n",
    "            # is multiplication and we're not multiplying by 1\n",
    "            if operation=='*' and currentIsDigit and prevIsMult and int(string[indexer])!=1:\n",
    "                # Combine terms and shrink array\n",
    "                combinedTerms*=int(string[indexer])\n",
    "                del string[indexer]\n",
    "                del string[indexer-1]\n",
    "                deletionFlag=1\n",
    "            \n",
    "            # If addition/subtraction and current char is an int and previous term is\n",
    "            # is addition/subtraction and we're at the end of the array or the next term is\n",
    "            # multiplicative\n",
    "            elif operation=='+-' and currentIsDigit and prevIsAddSub and (atEnd or string[indexer+1]!='*'):\n",
    "                # Combine terms and shrink array\n",
    "                if string[indexer-1]=='+': combinedTerms+=int(string[indexer])\n",
    "                if string[indexer-1]=='-': combinedTerms-=int(string[indexer])                        \n",
    "                del string[indexer-1]\n",
    "                del string[indexer-1]\n",
    "                deletionFlag=1\n",
    "\n",
    "            string[firstIntIndex]=str(combinedTerms)\n",
    "            indexer+=1\n",
    "            if deletionFlag: indexer-=2\n",
    "\n",
    "        return string\n",
    "    \n",
    "    def parenthesesHelper(self, string, openParenIndex, operation):\n",
    "        \"\"\"\n",
    "        Takes care of parenthesis, namely focused on correctly carrying out\n",
    "        cases in which parentheses are preceded by \"-\" or \"*\"\n",
    "        \n",
    "        Parameters:\n",
    "        -----------\n",
    "        string: list\n",
    "            The current state of the simplified string\n",
    "        openParenIndex: int\n",
    "            The position of the opening parenthesis\n",
    "        operation: string\n",
    "            The type of operation, either '*' for multiplication or '-' for addition/subtraction      \n",
    "            \n",
    "        Returns:\n",
    "        --------\n",
    "        string: list\n",
    "            The string with parentheses taken care of\n",
    "        \"\"\"\n",
    "        tempIndex=openParenIndex+2  \n",
    "        # Until we reach the close paren\n",
    "        while string[tempIndex]!=')':\n",
    "            # Switch the operator sign if \"-(...)\"\n",
    "            if operation=='-' and (string[tempIndex]=='+' or string[tempIndex]=='-'):\n",
    "                if(string[tempIndex]=='+'): string[tempIndex]='-'  \n",
    "                elif(string[tempIndex]=='-'): string[tempIndex]='+'                  \n",
    "                tempIndex+=1\n",
    "            # Multiply the term before the * with the term after the operator if \"*(...)\"\n",
    "            elif operation=='*' and (string[tempIndex]=='+' or string[tempIndex]=='-'):\n",
    "                string.insert(tempIndex+1,'*')\n",
    "                string.insert(tempIndex+1,string[openParenIndex-2])\n",
    "            tempIndex+=1\n",
    "        \n",
    "        return string\n",
    "\n",
    "    def simplify(self):\n",
    "        \"\"\"\n",
    "        Simplifies the expression at the top of the stack\n",
    "        \n",
    "        Flow:\n",
    "        -----\n",
    "          1. Check that more than one term exists in expression\n",
    "          2. If so, iterate through, removing pairs of parentheses using parenthesesHelper()\n",
    "            a. If the operation before the parentheses is '-' -> flip operations within parenthetical pair\n",
    "               Ex: 1-(2-3) -> 1-2+3\n",
    "            b. If the operation before the parentheses is '*' -> multiply preceding term by all inner terms\n",
    "               Ex: 3*(a+b) -> 3*a+3*b\n",
    "          3. Now that all parenthesis are removed, further simplify the expression\n",
    "            a. Remove all multiplications by 1\n",
    "               Ex: 3*a*1 -> 3*a\n",
    "            b. Simplify remaining products via combinationHelper()\n",
    "               Ex: 3*2*a -> 6*a\n",
    "            c. Remove all additions/subtractions by 0\n",
    "               Ex: 3+0+a -> 3+a\n",
    "            d. Move all integers to the front of resulting products\n",
    "               Ex: a*b*3 -> 3*a*b\n",
    "        \n",
    "        Returns:\n",
    "        -------\n",
    "        simplifiedStr: string\n",
    "            Simplified expression\n",
    "        \"\"\"\n",
    "\n",
    "        # Two line solution with external library:\n",
    "        #----------------------------------------#    \n",
    "        from sympy import sympify as sym\n",
    "        # return sym(self.expression())\n",
    "\n",
    "\n",
    "        # But lets do it without the external library:\n",
    "        #--------------------------------------------#\n",
    "        # Take in unsimplified input expression\n",
    "        simplifiedStr = list(self.expression())        \n",
    "        if len(simplifiedStr)==1: return simplifiedStr[0]\n",
    "        \n",
    "        # Combine double digits\n",
    "        # Ex: ['(','1','2','+','1',')'] -> ['(','12','+','1',')']\n",
    "        index=0\n",
    "        while index<len(simplifiedStr):\n",
    "            while simplifiedStr[index].isdigit() and simplifiedStr[index+1].isdigit():\n",
    "                simplifiedStr[index]+=simplifiedStr[index+1]\n",
    "                del simplifiedStr[index+1]\n",
    "                index-=1\n",
    "            index+=1\n",
    "\n",
    "        # While there is an open paren\n",
    "        while simplifiedStr.count('('):\n",
    "\n",
    "            # Flip the simplifiedStr so that .index() finds the first open paren\n",
    "            # Ex: Original simplifiedStr = \"(a+(b+c))\", Flipped = \"))c+b(+a(\"\n",
    "            reverseIndexParen=simplifiedStr[::-1].index('(')\n",
    "\n",
    "            # Then the index of the open paren is just the \n",
    "            # length of the simplifiedStr-1 - the reversed index\n",
    "            openParenIndex = len(simplifiedStr)-1-reverseIndexParen\n",
    "\n",
    "            # If we are dealing with a \"-(...)\" case        \n",
    "            if simplifiedStr[openParenIndex-1]=='-':\n",
    "                simplifiedStr = self.parenthesesHelper(simplifiedStr, openParenIndex, '-')\n",
    "\n",
    "            # If we are dealing with a \"*(...)\" case\n",
    "            elif simplifiedStr[openParenIndex-1]=='*':\n",
    "                simplifiedStr = self.parenthesesHelper(simplifiedStr, openParenIndex, '*')\n",
    "\n",
    "            # Delete parentheses pairing\n",
    "            # Delete open paren\n",
    "            del simplifiedStr[openParenIndex]\n",
    "            # Find first index of closing paren and delete it\n",
    "            del simplifiedStr[simplifiedStr.index(')')]\n",
    "\n",
    "        # Delete *1 cases\n",
    "        index=0\n",
    "        while index<len(simplifiedStr):\n",
    "            deletionFlag=False\n",
    "            # If current is a digit (necessary check for the next condition, otherwise error thrown)\n",
    "            # and this digit is an int which is preceded by * -> delete the *1\n",
    "            if simplifiedStr[index].isdigit() and int(simplifiedStr[index])==1 and simplifiedStr[index-1]=='*' :\n",
    "                del simplifiedStr[index]\n",
    "                del simplifiedStr[index-1]\n",
    "                deletionFlag=True\n",
    "            index+=1\n",
    "            if deletionFlag: index-=2\n",
    "\n",
    "        # Find first multiplicative integer (for simplification)\n",
    "        multIntExists=False\n",
    "        index=1\n",
    "        while index<len(simplifiedStr):\n",
    "            # If previous index is int and next index yields *\n",
    "            # Mark as first int\n",
    "            if simplifiedStr[index-1].isdigit() and (simplifiedStr[index]=='*'):\n",
    "                firstIntIndex=index-1\n",
    "                multIntExists=True\n",
    "                break \n",
    "            index+=1\n",
    "\n",
    "        # Combine multiplicative ints\n",
    "        if multIntExists:\n",
    "            simplifiedStr = self.combinationHelper(simplifiedStr, firstIntIndex, '*')\n",
    "\n",
    "        # Find first additive/subtractive (is that a word...?) int\n",
    "        intExists=0\n",
    "        index=0\n",
    "        while index<len(simplifiedStr)-1:\n",
    "            currentIsDigit = (simplifiedStr[index].isdigit())\n",
    "            nextIsOperator = (simplifiedStr[index+1]=='+' or simplifiedStr[index+1]=='-')\n",
    "            previousWasOperator = (simplifiedStr[index-1]=='+' or simplifiedStr[index-1]=='-')\n",
    "            atBeginning = (index==0)\n",
    "\n",
    "            # If the current value is an int followed by an operator and it's either at the beginning\n",
    "            # or preceded by an int, then that is the first int!\n",
    "            if currentIsDigit and nextIsOperator and (atBeginning or previousWasOperator):\n",
    "                    firstIntIndex=index\n",
    "                    intExists=1\n",
    "                    break\n",
    "            index+=1\n",
    "\n",
    "        # If we have an additive/subtractive(?) int\n",
    "        if intExists:\n",
    "            simplifiedStr = self.combinationHelper(simplifiedStr, firstIntIndex, '+-')\n",
    "\n",
    "        # Delete +/-0 cases\n",
    "        index=0\n",
    "        while index<len(simplifiedStr):\n",
    "            deletionFlag=0\n",
    "            if simplifiedStr[index].isdigit():\n",
    "                if int(simplifiedStr[index])==0:\n",
    "                    atBeginning = index==0\n",
    "                    atEnd = index==len(simplifiedStr)-1\n",
    "                    nextIsOper = (simplifiedStr[index+1]=='-' or simplifiedStr[index+1]=='+')\n",
    "                    prevIsOper = (simplifiedStr[index-1]=='-' or simplifiedStr[index-1]=='+')\n",
    "\n",
    "                    # If \"0+...\"\n",
    "                    if atBeginning and nextIsOper:\n",
    "                        del simplifiedStr[j]\n",
    "                        del simplifiedStr[j]\n",
    "                        deletionFlag=1\n",
    "                    # If \"...+0\" or \"...+0+...\"\n",
    "                    elif (atEnd and prevIsOper) or (prevIsOper and nextIsOper):\n",
    "                        del simplifiedStr[j-1]\n",
    "                        del simplifiedStr[j-1]\n",
    "                        deletionFlag=1\n",
    "            index+=1\n",
    "            if deletionFlag: index-=2\n",
    "\n",
    "        # Purely aesthetic but make sure that ints are at the beginning of products\n",
    "        # Ex: 2*x*y instead of x*y*2\n",
    "        index = len(simplifiedStr)-2\n",
    "        while index>0:\n",
    "            currIsOper = simplifiedStr[index]=='*'\n",
    "            nextIsInt = simplifiedStr[index+1].isdigit()\n",
    "            prevIsNotInt = not simplifiedStr[index-1].isdigit()\n",
    "\n",
    "            # If \"var*int\"\n",
    "            if currIsOper and nextIsInt and prevIsNotInt:\n",
    "                # Swap positions of var and int\n",
    "                simplifiedStr[index-1], simplifiedStr[index+1] = simplifiedStr[index+1], simplifiedStr[index-1] \n",
    "            index-=1\n",
    "\n",
    "        return ''.join(simplifiedStr)"
   ]
  },
  {
   "cell_type": "markdown",
   "metadata": {},
   "source": [
    "---"
   ]
  },
  {
   "cell_type": "markdown",
   "metadata": {},
   "source": [
    "### The input handler"
   ]
  },
  {
   "cell_type": "code",
   "execution_count": 222,
   "metadata": {
    "scrolled": true
   },
   "outputs": [
    {
     "name": "stdout",
     "output_type": "stream",
     "text": [
      "Enter operation name:\n",
      "\n",
      "  PUSH <N>: Push an integer, N, to the stack\n",
      "  ADD: Add values from the stack\n",
      "  SUB: Subtract values from the stack\n",
      "  MUL: Multiply values from the stack\n",
      "  SWAP: Swap values from the stack\n",
      "  END: Enter END when finished with commands\n",
      "\n",
      "push 1\n",
      "push 2\n",
      "push 3\n",
      "mul\n",
      "add\n",
      "end\n",
      "((3*2)+1) = 7\n"
     ]
    }
   ],
   "source": [
    "s = Decompiler()\n",
    "print(\"Enter operation name:\\n\")\n",
    "print(\"  PUSH <N>: Push an integer, N, to the stack\")\n",
    "print(\"  ADD: Add values from the stack\")\n",
    "print(\"  SUB: Subtract values from the stack\")\n",
    "print(\"  MUL: Multiply values from the stack\")\n",
    "print(\"  SWAP: Swap values from the stack\")\n",
    "print(\"  END: Enter END when finished with commands\\n\")\n",
    "\n",
    "while True:\n",
    "    operation = input().split()\n",
    "    try:\n",
    "        if len(operation)>1 and operation[0].upper()!=\"PUSH\":\n",
    "            print(\"Error, please limit entries to one operation per line\")\n",
    "            continue\n",
    "        if operation[0].upper() == \"PUSH\":\n",
    "            valueToPush = operation[1]\n",
    "            s.push(int(valueToPush))\n",
    "        elif operation[0].upper() == \"ADD\":\n",
    "            s.add()\n",
    "        elif operation[0].upper() == \"SUB\":\n",
    "            s.sub()\n",
    "        elif operation[0].upper() == \"MUL\":\n",
    "            s.mul()\n",
    "        elif operation[0].upper() == \"SWAP\":\n",
    "            s.swap()\n",
    "        elif operation[0].upper() == \"END\":\n",
    "            break      \n",
    "        else:\n",
    "            print(\"Error, please enter a valid operation:\\n  PUSH <n>, ADD, SUB, MUL, or SWAP\")\n",
    "    except:\n",
    "        print(\"Error, please enter a single keyword unless pushing, in which case enter the keyword \\\"PUSH\\\" followed by an integer\")\n",
    "\n",
    "if len(s.stack):\n",
    "    print(s.expression(),\"=\", s.simplify())"
   ]
  },
  {
   "cell_type": "markdown",
   "metadata": {},
   "source": [
    "---"
   ]
  },
  {
   "cell_type": "markdown",
   "metadata": {},
   "source": [
    "### Test cases"
   ]
  },
  {
   "cell_type": "code",
   "execution_count": 180,
   "metadata": {},
   "outputs": [
    {
     "name": "stdout",
     "output_type": "stream",
     "text": [
      "(2+1)\n"
     ]
    },
    {
     "data": {
      "text/plain": [
       "(3, '3')"
      ]
     },
     "execution_count": 180,
     "metadata": {},
     "output_type": "execute_result"
    }
   ],
   "source": [
    "# Test 1: 1+2=3\n",
    "s = Decompiler()\n",
    "s.push(1)\n",
    "s.push(2)\n",
    "s.add()\n",
    "s.expression(output=True)\n",
    "s.simplify()"
   ]
  },
  {
   "cell_type": "code",
   "execution_count": 181,
   "metadata": {},
   "outputs": [
    {
     "name": "stdout",
     "output_type": "stream",
     "text": [
      "((3*2)+1)\n"
     ]
    },
    {
     "data": {
      "text/plain": [
       "(7, '7')"
      ]
     },
     "execution_count": 181,
     "metadata": {},
     "output_type": "execute_result"
    }
   ],
   "source": [
    "# Test 2: 1+2*3=7\n",
    "s = Decompiler()\n",
    "s.push(1)\n",
    "s.push(2)\n",
    "s.push(3)\n",
    "s.mul()\n",
    "s.add()\n",
    "s.expression(output=True)\n",
    "s.simplify()"
   ]
  },
  {
   "cell_type": "code",
   "execution_count": 182,
   "metadata": {},
   "outputs": [
    {
     "name": "stdout",
     "output_type": "stream",
     "text": [
      "(1+(3*2))\n"
     ]
    },
    {
     "data": {
      "text/plain": [
       "(7, '7')"
      ]
     },
     "execution_count": 182,
     "metadata": {},
     "output_type": "execute_result"
    }
   ],
   "source": [
    "# Test 3: 1+2*3=7\n",
    "s = Decompiler()\n",
    "s.push(2)\n",
    "s.push(3)\n",
    "s.mul()\n",
    "s.push(1)\n",
    "s.add()\n",
    "s.expression(output=True)\n",
    "s.simplify()"
   ]
  },
  {
   "cell_type": "code",
   "execution_count": 183,
   "metadata": {},
   "outputs": [
    {
     "name": "stdout",
     "output_type": "stream",
     "text": [
      "(1+(x*2))\n"
     ]
    },
    {
     "data": {
      "text/plain": [
       "(2*x + 1, '1+2*x')"
      ]
     },
     "execution_count": 183,
     "metadata": {},
     "output_type": "execute_result"
    }
   ],
   "source": [
    "# Test 4: 1*2*x\n",
    "s = Decompiler()\n",
    "s.push(2)\n",
    "s.mul()\n",
    "s.push(1)\n",
    "s.add()\n",
    "s.expression(output=True)\n",
    "s.simplify()"
   ]
  },
  {
   "cell_type": "code",
   "execution_count": 184,
   "metadata": {},
   "outputs": [
    {
     "name": "stdout",
     "output_type": "stream",
     "text": [
      "(x-1)\n"
     ]
    },
    {
     "data": {
      "text/plain": [
       "(x - 1, 'x-1')"
      ]
     },
     "execution_count": 184,
     "metadata": {},
     "output_type": "execute_result"
    }
   ],
   "source": [
    "# Test 5: x-1\n",
    "s = Decompiler()\n",
    "s.push(1)\n",
    "s.sub()\n",
    "s.expression(output=True)\n",
    "s.simplify()"
   ]
  },
  {
   "cell_type": "code",
   "execution_count": 185,
   "metadata": {},
   "outputs": [
    {
     "name": "stdout",
     "output_type": "stream",
     "text": [
      "((3*1)+2)\n"
     ]
    },
    {
     "data": {
      "text/plain": [
       "(5, '5')"
      ]
     },
     "execution_count": 185,
     "metadata": {},
     "output_type": "execute_result"
    }
   ],
   "source": [
    "# Test 6: 2+1*3=5\n",
    "s = Decompiler()\n",
    "s.push(1)\n",
    "s.push(2)\n",
    "s.swap()\n",
    "s.push(3)\n",
    "s.mul()\n",
    "s.add()\n",
    "s.expression(output=True)\n",
    "s.simplify()"
   ]
  },
  {
   "cell_type": "code",
   "execution_count": 186,
   "metadata": {},
   "outputs": [
    {
     "name": "stdout",
     "output_type": "stream",
     "text": [
      "(z+(x*y))\n"
     ]
    },
    {
     "data": {
      "text/plain": [
       "(x*y + z, 'z+x*y')"
      ]
     },
     "execution_count": 186,
     "metadata": {},
     "output_type": "execute_result"
    }
   ],
   "source": [
    "# Test 7: z+(x*y)\n",
    "s = Decompiler()\n",
    "s.mul()\n",
    "s.add()\n",
    "s.expression(output=True)\n",
    "s.simplify()"
   ]
  },
  {
   "cell_type": "code",
   "execution_count": null,
   "metadata": {},
   "outputs": [],
   "source": []
  },
  {
   "cell_type": "code",
   "execution_count": 187,
   "metadata": {},
   "outputs": [
    {
     "name": "stdout",
     "output_type": "stream",
     "text": [
      "1\n"
     ]
    },
    {
     "data": {
      "text/plain": [
       "'1'"
      ]
     },
     "execution_count": 187,
     "metadata": {},
     "output_type": "execute_result"
    }
   ],
   "source": [
    "# Test 8: No operations\n",
    "s = Decompiler()\n",
    "s.push(1)\n",
    "s.push(2)\n",
    "s.push(3)\n",
    "s.expression(output=True)\n",
    "s.simplify()"
   ]
  },
  {
   "cell_type": "code",
   "execution_count": 188,
   "metadata": {},
   "outputs": [
    {
     "name": "stdout",
     "output_type": "stream",
     "text": [
      "(z-(x+y))\n"
     ]
    },
    {
     "data": {
      "text/plain": [
       "(-x - y + z, 'z-x-y')"
      ]
     },
     "execution_count": 188,
     "metadata": {},
     "output_type": "execute_result"
    }
   ],
   "source": [
    "# Test 9: -(...)\n",
    "s = Decompiler()\n",
    "s.add()\n",
    "s.sub()\n",
    "s.expression(output=True)\n",
    "s.simplify()"
   ]
  },
  {
   "cell_type": "code",
   "execution_count": 192,
   "metadata": {},
   "outputs": [
    {
     "name": "stdout",
     "output_type": "stream",
     "text": [
      "(y*(x*2))\n"
     ]
    },
    {
     "data": {
      "text/plain": [
       "(2*x*y, '2*y*x')"
      ]
     },
     "execution_count": 192,
     "metadata": {},
     "output_type": "execute_result"
    }
   ],
   "source": [
    "# Test 10: Order of multiplication terms\n",
    "s = Decompiler()\n",
    "s.push(2)\n",
    "s.mul()\n",
    "s.mul()\n",
    "s.expression(output=True)\n",
    "s.simplify()"
   ]
  },
  {
   "cell_type": "code",
   "execution_count": 193,
   "metadata": {},
   "outputs": [
    {
     "name": "stdout",
     "output_type": "stream",
     "text": [
      "(3*(y*(x*2)))\n"
     ]
    },
    {
     "data": {
      "text/plain": [
       "(6*x*y, '6*y*x')"
      ]
     },
     "execution_count": 193,
     "metadata": {},
     "output_type": "execute_result"
    }
   ],
   "source": [
    "# Test 11: Order of multiplication terms\n",
    "s = Decompiler()\n",
    "s.push(2)\n",
    "s.mul()\n",
    "s.mul()\n",
    "s.push(3)\n",
    "s.mul()\n",
    "s.expression(output=True)\n",
    "s.simplify()"
   ]
  },
  {
   "cell_type": "code",
   "execution_count": 194,
   "metadata": {},
   "outputs": [],
   "source": [
    "# Test 12: Empty simplify: Returns error, but in practice, the input handler would catch this\n",
    "s = Decompiler()\n",
    "# s.expression(output=True)\n",
    "# s.simplify()"
   ]
  },
  {
   "cell_type": "code",
   "execution_count": 196,
   "metadata": {},
   "outputs": [],
   "source": [
    "# Test 13: Empty swap: Returns error, but in practice, input handler would catch this\n",
    "s = Decompiler()\n",
    "# s.swap()\n",
    "# s.expression(output=True)\n",
    "# s.simplify()"
   ]
  },
  {
   "cell_type": "code",
   "execution_count": null,
   "metadata": {},
   "outputs": [],
   "source": []
  }
 ],
 "metadata": {
  "kernelspec": {
   "display_name": "Python 3",
   "language": "python",
   "name": "python3"
  },
  "language_info": {
   "codemirror_mode": {
    "name": "ipython",
    "version": 3
   },
   "file_extension": ".py",
   "mimetype": "text/x-python",
   "name": "python",
   "nbconvert_exporter": "python",
   "pygments_lexer": "ipython3",
   "version": "3.7.6"
  }
 },
 "nbformat": 4,
 "nbformat_minor": 4
}
