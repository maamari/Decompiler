{
 "cells": [
  {
   "cell_type": "markdown",
   "metadata": {},
   "source": [
    "# A Simple Decoder"
   ]
  },
  {
   "cell_type": "markdown",
   "metadata": {},
   "source": [
    "Karime Maamari"
   ]
  },
  {
   "cell_type": "markdown",
   "metadata": {},
   "source": [
    "---"
   ]
  },
  {
   "cell_type": "markdown",
   "metadata": {},
   "source": [
    "This exercise is concerned with the \"decompilation\" of some set of the following input instructions:\n",
    "1. **PUSH N:** Pushes the given integer, N, onto the stack\n",
    "2. **ADD:** Pops the two top values from the stack, adds them, and pushes the result\n",
    "3. **SUB:** Pops the two top values from the stack, *subtracts* them, and pushes the result\n",
    "4. **MUL:** Pops the two top values from the stack, *multiplies* them, and pushes the result\n",
    "5. **SWAP:** Swaps the top two numbers from the stack"
   ]
  },
  {
   "cell_type": "markdown",
   "metadata": {},
   "source": [
    "As an example, consider the following set of commands:\n",
    "1. PUSH 1\n",
    "2. PUSH 2\n",
    "3. PUSH 3\n",
    "4. MUL\n",
    "5. ADD"
   ]
  },
  {
   "cell_type": "markdown",
   "metadata": {},
   "source": [
    "First, we push the values 1, 2, and 3 onto the stack"
   ]
  },
  {
   "cell_type": "code",
   "execution_count": 1,
   "metadata": {},
   "outputs": [
    {
     "name": "stdout",
     "output_type": "stream",
     "text": [
      "----\n",
      " 3 \n",
      "----\n",
      "\n",
      "----\n",
      " 2 \n",
      "----\n",
      "\n",
      "----\n",
      " 1 \n",
      "----\n",
      "\n"
     ]
    }
   ],
   "source": [
    "stack = [\"3\",\"2\",\"1\"]\n",
    "for instruction in stack:\n",
    "    print(\"----\\n\",instruction,\"\\n----\\n\")"
   ]
  },
  {
   "cell_type": "markdown",
   "metadata": {},
   "source": [
    "Then MUL pops off the top two terms and pushes their product onto the stack"
   ]
  },
  {
   "cell_type": "code",
   "execution_count": 2,
   "metadata": {},
   "outputs": [
    {
     "name": "stdout",
     "output_type": "stream",
     "text": [
      "----\n",
      " 6 \n",
      "----\n",
      "\n",
      "----\n",
      " 1 \n",
      "----\n",
      "\n"
     ]
    }
   ],
   "source": [
    "stack = [\"6\",\"1\"]\n",
    "for instruction in stack:\n",
    "    print(\"----\\n\",instruction,\"\\n----\\n\")"
   ]
  },
  {
   "cell_type": "markdown",
   "metadata": {},
   "source": [
    "And, finally, ADD pops off these two values and pushes their sum back onto the stack"
   ]
  },
  {
   "cell_type": "code",
   "execution_count": 3,
   "metadata": {},
   "outputs": [
    {
     "name": "stdout",
     "output_type": "stream",
     "text": [
      "----\n",
      " 7 \n",
      "----\n",
      "\n"
     ]
    }
   ],
   "source": [
    "print(\"----\\n\",7,\"\\n----\\n\")"
   ]
  },
  {
   "cell_type": "markdown",
   "metadata": {},
   "source": [
    "Continue to the input handler (two cells below) to use the decompiler"
   ]
  },
  {
   "cell_type": "markdown",
   "metadata": {},
   "source": [
    "---"
   ]
  },
  {
   "cell_type": "markdown",
   "metadata": {},
   "source": [
    "### The Decompiler class"
   ]
  },
  {
   "cell_type": "code",
   "execution_count": 318,
   "metadata": {},
   "outputs": [],
   "source": [
    "class Decompiler:\n",
    "    \n",
    "    def __init__(self):\n",
    "        \"\"\"\n",
    "        Object initialization\n",
    "        \n",
    "        Parameters:\n",
    "        -----------\n",
    "        stack: arr\n",
    "            The stack object to be manipulated\n",
    "        count: int\n",
    "            The variable identifier, instead of using different variable names, we use an identifier\n",
    "            Ex: x0, x1, x2, etc.\n",
    "        \"\"\"\n",
    "        \n",
    "        self.stack = []\n",
    "        self.count = 0\n",
    "        self.alphabet = list(\"xyzabcdefghijklmnopqrstuvw\")\n",
    "        \n",
    "    def push(self, element):        \n",
    "        \"\"\"\n",
    "        Pushes element into stack\n",
    "        \n",
    "        Parameters:\n",
    "        -----------\n",
    "        element: int\n",
    "            value to be placed onto the stack\n",
    "        \"\"\"\n",
    "        \n",
    "        self.stack.append(str(element))\n",
    "        \n",
    "    def pop(self):\n",
    "        \"\"\"\n",
    "        Pops element from stack\n",
    "        \"\"\"\n",
    "        \n",
    "        if len(self.stack):\n",
    "            return self.stack.pop()\n",
    "        \n",
    "    def operationHelper(self, operation):\n",
    "        \"\"\"\n",
    "        Helper function for operations.\n",
    "        All operations require the general logic:\n",
    "            1. If two or more terms exist, operate between the terms\n",
    "            2. If one term exists, operate between term and variable\n",
    "            3. If no terms exist, operate between two variables\n",
    "        So we can generalize, feeding in the operation type as input\n",
    "        \n",
    "        Parameters:\n",
    "        -----------\n",
    "        operation: string\n",
    "            Type of operation (\"+\", \"-\", or \"*\")\n",
    "        \"\"\"\n",
    "        \n",
    "        stackLength = len(self.stack)\n",
    "        \n",
    "        # Normal operation between two terms\n",
    "        if stackLength >= 2:\n",
    "            firstTerm = self.pop()\n",
    "            secondTerm = self.pop()\n",
    "            self.push(\"(\"+firstTerm+\"{}\".format(operation)+secondTerm+\")\")\n",
    "        \n",
    "        # Only one term on stack\n",
    "        elif stackLength == 1:\n",
    "            firstTerm = self.pop()\n",
    "            self.push(\"(\"+self.alphabet[self.count]+\"{}\".format(operation)+firstTerm+\")\")\n",
    "            self.count= self.count + 1\n",
    "            \n",
    "        # No terms on stack\n",
    "        else:\n",
    "            self.push(\"(\"+self.alphabet[self.count]+\"{}\".format(operation)+self.alphabet[self.count+1]+\")\")\n",
    "            self.count+=2\n",
    "        \n",
    "    def add(self):\n",
    "        \"\"\"\n",
    "        Addition operation\n",
    "        \"\"\"\n",
    "        \n",
    "        self.operationHelper(\"+\")\n",
    "            \n",
    "    def sub(self):\n",
    "        \"\"\"\n",
    "        Subtraction operation\n",
    "        \"\"\"\n",
    "        \n",
    "        self.operationHelper(\"-\")\n",
    "            \n",
    "    def mul(self):\n",
    "        \"\"\"\n",
    "        Multiplication operation\n",
    "        \"\"\"\n",
    "\n",
    "        self.operationHelper(\"*\")\n",
    "            \n",
    "    def swap(self):\n",
    "        \"\"\"\n",
    "        Swap the 2 elements in the stack\n",
    "        \"\"\"\n",
    "        \n",
    "        if len(self.stack) >= 2:\n",
    "            firstTerm = self.pop()\n",
    "            secondTerm = self.pop()\n",
    "            self.push(firstTerm)\n",
    "            self.push(secondTerm)\n",
    "            \n",
    "    def expression(self,output=False):\n",
    "        \"\"\"\n",
    "        Returns:\n",
    "        -------\n",
    "        The expression based on the stack\n",
    "        \"\"\"\n",
    "        if output: print(self.stack[0])\n",
    "        return self.stack[0]\n",
    "\n",
    "    def simplify(self):\n",
    "        \"\"\"\n",
    "        Returns:\n",
    "        -------\n",
    "        \n",
    "        \"\"\"\n",
    "        \n",
    "        # Use sympy as sanity check\n",
    "        from sympy import sympify as sym\n",
    "\n",
    "        string = list(self.expression())        \n",
    "        \n",
    "        i = len(string)-1\n",
    "        while i>=0:\n",
    "            if string[i]=='(':\n",
    "                # Subtraction\n",
    "                if string[i-1]=='-':\n",
    "                    k=i+2\n",
    "                    while string[k]!=')':\n",
    "                        if string[k]=='+':\n",
    "                            string[k]='-'\n",
    "                        elif string[k]=='-':\n",
    "                            string[k]='+'  \n",
    "                        k+=2\n",
    "                \n",
    "                # Multiplication\n",
    "                if string[i-1]=='*':\n",
    "                    k=i+2\n",
    "                    while string[k]!=')':\n",
    "                        if string[k]=='+' or string[k]=='-':\n",
    "                            string[k+1]=string[i-2]+'*'+string[k+1]\n",
    "                        k+=2\n",
    "                \n",
    "                # Delete parenthesis pairing\n",
    "                del string[i]\n",
    "                j=i\n",
    "                while j<len(string):\n",
    "                    if string[j]==')':\n",
    "                        del string[j]\n",
    "                        break\n",
    "                    j+=1          \n",
    "            i-=1\n",
    "            \n",
    "        # Int multiplication simplification\n",
    "        intExists=0\n",
    "        i=0\n",
    "        while i<len(string)-1:\n",
    "            if string[i].isdigit() and (string[i+1]=='*'):\n",
    "                firstIntIndex=i\n",
    "                intExists=1\n",
    "                break \n",
    "            i+=1\n",
    "        \n",
    "        # Delete *1 cases\n",
    "        j=0\n",
    "        while j<len(string):\n",
    "            deletionFlag=0\n",
    "            if string[j].isdigit():\n",
    "                if string[j-1]=='*':\n",
    "                    if int(string[j])==1:\n",
    "                        del string[j-1]\n",
    "                        del string[j-1]\n",
    "                        deletionFlag=1\n",
    "\n",
    "            j+=1\n",
    "            if deletionFlag: j-=2\n",
    "                    \n",
    "        if intExists:\n",
    "            intSum=int(string[firstIntIndex])\n",
    "            intIndexer=firstIntIndex+1\n",
    "            \n",
    "            while intIndexer<len(string):\n",
    "                deletionFlag=0\n",
    "                if string[intIndexer].isdigit():\n",
    "                    if string[intIndexer-1]=='*':\n",
    "                        if int(string[intIndexer])!=1:\n",
    "                            intSum*=int(string[intIndexer])\n",
    "                        del string[intIndexer-1]\n",
    "                        del string[intIndexer-1]\n",
    "                        deletionFlag=1\n",
    "\n",
    "                string[firstIntIndex]=str(intSum)\n",
    "                intIndexer+=1\n",
    "                if deletionFlag: intIndexer-=2\n",
    "        \n",
    "        # Int addition/subtraciton simplification\n",
    "        intExists=0\n",
    "        i=0\n",
    "        while i<len(string)-1:\n",
    "            if string[i].isdigit() and (string[i+1]=='+' or string[i+1]=='-'):\n",
    "                if i==0:\n",
    "                    firstIntIndex=i\n",
    "                    intExists=1\n",
    "                    break \n",
    "                if i!=0 and (string[i-1]=='+' or string[i-1]=='-'):\n",
    "                    firstIntIndex=i\n",
    "                    intExists=1\n",
    "                    break\n",
    "            i+=1\n",
    "        \n",
    "        if intExists:\n",
    "            intSum=int(string[firstIntIndex])\n",
    "            intIndexer=firstIntIndex+1\n",
    "            \n",
    "            while intIndexer<len(string):\n",
    "                deletionFlag=0\n",
    "                if string[intIndexer].isdigit():\n",
    "                    if string[intIndexer-1]=='+' and (intIndexer==len(string)-1 or string[intIndexer+1]!='*'):\n",
    "                        intSum+=int(string[intIndexer])\n",
    "                        del string[intIndexer-1]\n",
    "                        del string[intIndexer-1]\n",
    "                        deletionFlag=1\n",
    "                    elif string[intIndexer-1]=='-' and (intIndexer==len(string)-1 or string[intIndexer+1]!='*'):\n",
    "                        intSum-=int(string[intIndexer])\n",
    "                        del string[intIndexer-1]\n",
    "                        del string[intIndexer-1]\n",
    "                        deletionFlag=1\n",
    "\n",
    "                string[firstIntIndex]=str(intSum)\n",
    "                intIndexer+=1\n",
    "                if deletionFlag: intIndexer-=2\n",
    "                \n",
    "        # Delete +/-0 cases\n",
    "        j=0\n",
    "        while j<len(string):\n",
    "            deletionFlag=0\n",
    "            if string[j].isdigit():\n",
    "                if int(string[j])==0:\n",
    "                    if j==0 and (string[j+1]=='-' or string[j+1]=='+'):\n",
    "                        del string[j]\n",
    "                        del string[j]\n",
    "                        deletionFlag=1\n",
    "                    elif j==len(string)-1 and (string[j-1]=='-' or string[j-1]=='+'):\n",
    "                        del string[j-1]\n",
    "                        del string[j-1]\n",
    "                        deletionFlag=1\n",
    "                    elif (string[j-1]=='-' or string[j-1]=='+') and (string[j+1]=='-' or string[j+1]=='+'):\n",
    "                        del string[j-1]\n",
    "                        del string[j-1]\n",
    "                        deletionFlag=1\n",
    "            j+=1\n",
    "            if deletionFlag: j-=2\n",
    "        \n",
    "        # Organize order\n",
    "        indx = len(string)-2\n",
    "        while indx>0:\n",
    "            if string[indx]=='*' and string[indx+1].isdigit() and not string[indx-1].isdigit():\n",
    "                string[indx-1], string[indx+1] = string[indx+1], string[indx-1] \n",
    "        \n",
    "        return (sym(self.expression()),''.join(string))"
   ]
  },
  {
   "cell_type": "markdown",
   "metadata": {},
   "source": [
    "### The input handler"
   ]
  },
  {
   "cell_type": "code",
   "execution_count": null,
   "metadata": {},
   "outputs": [
    {
     "name": "stdout",
     "output_type": "stream",
     "text": [
      "(y*(x*2))\n"
     ]
    }
   ],
   "source": [
    "# Test 9: Order of multiplication terms\n",
    "s = Decompiler()\n",
    "s.push(2)\n",
    "s.mul()\n",
    "s.mul()\n",
    "s.expression(output=True)\n",
    "s.simplify()"
   ]
  },
  {
   "cell_type": "code",
   "execution_count": 319,
   "metadata": {
    "scrolled": true
   },
   "outputs": [
    {
     "name": "stdout",
     "output_type": "stream",
     "text": [
      "Enter operation name:\n",
      "\n",
      "  PUSH <N>: Push an integer, N, to the stack\n",
      "  ADD: Add values from the stack\n",
      "  SUB: Subtract values from the stack\n",
      "  MUL: Multiply values from the stack\n",
      "  SWAP: Swap values from the stack\n",
      "  END: Enter END when finished with commands\n",
      "\n",
      "end\n"
     ]
    }
   ],
   "source": [
    "s = Decompiler()\n",
    "print(\"Enter operation name:\\n\")\n",
    "print(\"  PUSH <N>: Push an integer, N, to the stack\")\n",
    "print(\"  ADD: Add values from the stack\")\n",
    "print(\"  SUB: Subtract values from the stack\")\n",
    "print(\"  MUL: Multiply values from the stack\")\n",
    "print(\"  SWAP: Swap values from the stack\")\n",
    "print(\"  END: Enter END when finished with commands\\n\")\n",
    "\n",
    "while True:\n",
    "    operation = input().split()\n",
    "    try:\n",
    "        if len(operation)>1 and operation[0].upper()!=\"PUSH\":\n",
    "            print(\"Error, please limit entries to one operation per line\")\n",
    "            continue\n",
    "        if operation[0].upper() == \"PUSH\":\n",
    "            valueToPush = operation[1]\n",
    "            s.push(int(valueToPush))\n",
    "        elif operation[0].upper() == \"ADD\":\n",
    "            s.add()\n",
    "        elif operation[0].upper() == \"SUB\":\n",
    "            s.sub()\n",
    "        elif operation[0].upper() == \"MUL\":\n",
    "            s.mul()\n",
    "        elif operation[0].upper() == \"SWAP\":\n",
    "            s.swap()\n",
    "        elif operation[0].upper() == \"END\":\n",
    "            break      \n",
    "        else:\n",
    "            print(\"Error, please enter a valid operation:\\n  PUSH <n>, ADD, SUB, MUL, or SWAP\")\n",
    "    except:\n",
    "        print(\"Error, please enter a single keyword unless pushing, in which case enter the keyword \\\"PUSH\\\" followed by an integer\")\n",
    "\n",
    "if len(s.stack):\n",
    "    print(s.simplify())"
   ]
  },
  {
   "cell_type": "markdown",
   "metadata": {},
   "source": [
    "---"
   ]
  },
  {
   "cell_type": "markdown",
   "metadata": {},
   "source": [
    "### Test cases"
   ]
  },
  {
   "cell_type": "code",
   "execution_count": 308,
   "metadata": {},
   "outputs": [
    {
     "name": "stdout",
     "output_type": "stream",
     "text": [
      "(2+1)\n"
     ]
    },
    {
     "data": {
      "text/plain": [
       "(3, '3')"
      ]
     },
     "execution_count": 308,
     "metadata": {},
     "output_type": "execute_result"
    }
   ],
   "source": [
    "# Test 1: 1+2=3\n",
    "s = Decompiler()\n",
    "s.push(1)\n",
    "s.push(2)\n",
    "s.add()\n",
    "s.expression(output=True)\n",
    "s.simplify()"
   ]
  },
  {
   "cell_type": "code",
   "execution_count": 309,
   "metadata": {},
   "outputs": [
    {
     "name": "stdout",
     "output_type": "stream",
     "text": [
      "((3*2)+1)\n"
     ]
    },
    {
     "data": {
      "text/plain": [
       "(7, '7')"
      ]
     },
     "execution_count": 309,
     "metadata": {},
     "output_type": "execute_result"
    }
   ],
   "source": [
    "# Test 2: 1+2*3=7\n",
    "s = Decompiler()\n",
    "s.push(1)\n",
    "s.push(2)\n",
    "s.push(3)\n",
    "s.mul()\n",
    "s.add()\n",
    "s.expression(output=True)\n",
    "s.simplify()"
   ]
  },
  {
   "cell_type": "code",
   "execution_count": 310,
   "metadata": {},
   "outputs": [
    {
     "name": "stdout",
     "output_type": "stream",
     "text": [
      "(1+(3*2))\n"
     ]
    },
    {
     "data": {
      "text/plain": [
       "(7, '7')"
      ]
     },
     "execution_count": 310,
     "metadata": {},
     "output_type": "execute_result"
    }
   ],
   "source": [
    "# Test 3: 1+2*3=7\n",
    "s = Decompiler()\n",
    "s.push(2)\n",
    "s.push(3)\n",
    "s.mul()\n",
    "s.push(1)\n",
    "s.add()\n",
    "s.expression(output=True)\n",
    "s.simplify()"
   ]
  },
  {
   "cell_type": "code",
   "execution_count": 311,
   "metadata": {},
   "outputs": [
    {
     "name": "stdout",
     "output_type": "stream",
     "text": [
      "(1+(x*2))\n"
     ]
    },
    {
     "data": {
      "text/plain": [
       "(2*x + 1, '1+2*x')"
      ]
     },
     "execution_count": 311,
     "metadata": {},
     "output_type": "execute_result"
    }
   ],
   "source": [
    "# Test 4: 1*2*x\n",
    "s = Decompiler()\n",
    "s.push(2)\n",
    "s.mul()\n",
    "s.push(1)\n",
    "s.add()\n",
    "s.expression(output=True)\n",
    "s.simplify()"
   ]
  },
  {
   "cell_type": "code",
   "execution_count": 312,
   "metadata": {},
   "outputs": [
    {
     "name": "stdout",
     "output_type": "stream",
     "text": [
      "(x-1)\n"
     ]
    },
    {
     "data": {
      "text/plain": [
       "(x - 1, 'x-1')"
      ]
     },
     "execution_count": 312,
     "metadata": {},
     "output_type": "execute_result"
    }
   ],
   "source": [
    "# Test 5: x-1\n",
    "s = Decompiler()\n",
    "s.push(1)\n",
    "s.sub()\n",
    "s.expression(output=True)\n",
    "s.simplify()"
   ]
  },
  {
   "cell_type": "code",
   "execution_count": 313,
   "metadata": {},
   "outputs": [
    {
     "name": "stdout",
     "output_type": "stream",
     "text": [
      "((3*1)+2)\n"
     ]
    },
    {
     "data": {
      "text/plain": [
       "(5, '5')"
      ]
     },
     "execution_count": 313,
     "metadata": {},
     "output_type": "execute_result"
    }
   ],
   "source": [
    "# Test 6: 2+1*3=5\n",
    "s = Decompiler()\n",
    "s.push(1)\n",
    "s.push(2)\n",
    "s.swap()\n",
    "s.push(3)\n",
    "s.mul()\n",
    "s.add()\n",
    "s.expression(output=True)\n",
    "s.simplify()"
   ]
  },
  {
   "cell_type": "code",
   "execution_count": 314,
   "metadata": {},
   "outputs": [
    {
     "name": "stdout",
     "output_type": "stream",
     "text": [
      "(z+(x*y))\n"
     ]
    },
    {
     "data": {
      "text/plain": [
       "(x*y + z, 'z+x*y')"
      ]
     },
     "execution_count": 314,
     "metadata": {},
     "output_type": "execute_result"
    }
   ],
   "source": [
    "# Test 7: z+(x*y)\n",
    "s = Decompiler()\n",
    "s.mul()\n",
    "s.add()\n",
    "s.expression(output=True)\n",
    "s.simplify()"
   ]
  },
  {
   "cell_type": "code",
   "execution_count": 315,
   "metadata": {},
   "outputs": [
    {
     "name": "stdout",
     "output_type": "stream",
     "text": [
      "1\n"
     ]
    },
    {
     "data": {
      "text/plain": [
       "(1, '1')"
      ]
     },
     "execution_count": 315,
     "metadata": {},
     "output_type": "execute_result"
    }
   ],
   "source": [
    "# Test 8: 1\n",
    "s = Decompiler()\n",
    "s.push(1)\n",
    "s.push(2)\n",
    "s.push(3)\n",
    "s.expression(output=True)\n",
    "s.simplify()"
   ]
  },
  {
   "cell_type": "code",
   "execution_count": 317,
   "metadata": {},
   "outputs": [],
   "source": [
    "# Test 10: Empty simplify: Returns error, but in practice, the input handler would catch this\n",
    "s = Decompiler()\n",
    "# s.expression(output=True)\n",
    "# s.simplify()"
   ]
  },
  {
   "cell_type": "code",
   "execution_count": 261,
   "metadata": {},
   "outputs": [],
   "source": [
    "# Test 11: Empty swap: Returns error, but in practice, input handler would catch this\n",
    "s = Decompiler()\n",
    "# s.swap()\n",
    "# s.expression(output=True)\n",
    "# s.simplify()"
   ]
  },
  {
   "cell_type": "code",
   "execution_count": null,
   "metadata": {},
   "outputs": [],
   "source": []
  }
 ],
 "metadata": {
  "kernelspec": {
   "display_name": "Python 3",
   "language": "python",
   "name": "python3"
  },
  "language_info": {
   "codemirror_mode": {
    "name": "ipython",
    "version": 3
   },
   "file_extension": ".py",
   "mimetype": "text/x-python",
   "name": "python",
   "nbconvert_exporter": "python",
   "pygments_lexer": "ipython3",
   "version": "3.7.6"
  }
 },
 "nbformat": 4,
 "nbformat_minor": 4
}
