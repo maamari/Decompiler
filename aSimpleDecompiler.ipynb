{
 "cells": [
  {
   "cell_type": "code",
   "execution_count": 112,
   "metadata": {},
   "outputs": [],
   "source": [
    "class stacks:\n",
    "    def __init__(self):\n",
    "        self.stack = []\n",
    "    #count is the number of variable used   \n",
    "        self.count = 0\n",
    "    \n",
    "    # Push the element into the stack\n",
    "    def push(self, x):        \n",
    "        self.stack.append(str(x))\n",
    "    # Pop the element from the stack\n",
    "    def pop(self):\n",
    "        if len(self.stack)>0:\n",
    "            return self.stack.pop()\n",
    "    # Add the top 2 elements in the stack, if less than 2 elements present create a variable and use it \n",
    "    def add(self):\n",
    "        if len(self.stack)>=2:\n",
    "            last = self.pop()\n",
    "            s_last = self.pop()\n",
    "            if last.isnumeric() and s_last.isnumeric():\n",
    "                self.push(str(int(last) + int(s_last)))\n",
    "            else:\n",
    "                self.push(\"(\"+last+\"+\"+s_last+\")\")\n",
    "        elif len(self.stack)==1:\n",
    "            last = self.pop()\n",
    "            self.push(\"(x\"+str(self.count)+\"+\"+last+\")\")\n",
    "            self.count= self.count + 1\n",
    "        else:\n",
    "            self.push(\"(x\"+str(self.count)+\"+\"+\"x\"+str(self.count+1)+\")\")\n",
    "            self.count+=2\n",
    "    # Subtract the top 2 elements in the stack, if less than 2 elements present create a variable and use it \n",
    "    def sub(self):\n",
    "        if len(self.stack)>=2:\n",
    "            last = self.pop()\n",
    "            s_last = self.pop()\n",
    "            if last.isnumeric() and s_last.isnumeric():\n",
    "                self.push(str(int(last) - int(s_last)))\n",
    "            else:\n",
    "                self.push(\"(\"+last +\"-\"+s_last+\")\")\n",
    "        elif len(self.stack)==1:\n",
    "            last = self.pop()\n",
    "            self.push(\"(x\"+str(self.count)+\"-\"+last+\")\")\n",
    "            self.count+=1\n",
    "        else:\n",
    "            self.push(\"(x\"+str(self.count)+\"-\"+\"x\"+str(self.count+1)+\")\")\n",
    "            self.count+=2\n",
    "    # Multiply the top 2 elements in the stack, if less than 2 elements present create a variable and use it \n",
    "    def mul(self):\n",
    "        if len(self.stack)>=2:\n",
    "            last = self.pop()\n",
    "            s_last = self.pop()\n",
    "            if last.isnumeric() and s_last.isnumeric():\n",
    "                self.push(str(int(last) * int(s_last)))\n",
    "            else:\n",
    "                self.push(\"(\"+last +\"*\"+s_last+\")\")\n",
    "        elif len(self.stack)==1:\n",
    "            last = self.pop()\n",
    "            self.push(\"(x\"+str(self.count)+\"*\"+last+\")\")\n",
    "            self.count+=1\n",
    "        else:\n",
    "            self.push(\"(x\"+str(self.count)+\"*\"+\"x\"+str(self.count+1)+\")\")\n",
    "            self.count+=2\n",
    "            \n",
    "    # Swap the 2 elements in the stack\n",
    "    def swap():\n",
    "        if(len(self.stack))>=2:\n",
    "            last = self.pop()\n",
    "            s_last = self.pop()\n",
    "            self.push(last)\n",
    "            self.push(s_last)\n",
    "            \n",
    "    # print the expression \n",
    "    def expression(self):\n",
    "        return self.stack[0]\n",
    "    "
   ]
  },
  {
   "cell_type": "code",
   "execution_count": 113,
   "metadata": {},
   "outputs": [
    {
     "data": {
      "text/plain": [
       "'(x0-1)'"
      ]
     },
     "execution_count": 113,
     "metadata": {},
     "output_type": "execute_result"
    }
   ],
   "source": [
    "s = stacks()\n",
    "s.push(1)\n",
    "s.sub()\n",
    "s.expression()"
   ]
  },
  {
   "cell_type": "code",
   "execution_count": 115,
   "metadata": {},
   "outputs": [
    {
     "data": {
      "text/plain": [
       "'7'"
      ]
     },
     "execution_count": 115,
     "metadata": {},
     "output_type": "execute_result"
    }
   ],
   "source": [
    "#test 1\n",
    "s = stacks()\n",
    "s.push(2)\n",
    "s.push(3)\n",
    "s.mul()\n",
    "s.push(1)\n",
    "s.add()\n",
    "s.expression()"
   ]
  },
  {
   "cell_type": "code",
   "execution_count": 114,
   "metadata": {},
   "outputs": [
    {
     "data": {
      "text/plain": [
       "'(1*(x0*2))'"
      ]
     },
     "execution_count": 114,
     "metadata": {},
     "output_type": "execute_result"
    }
   ],
   "source": [
    "# test 2\n",
    "s = stacks()\n",
    "s.push(2)\n",
    "s.mul()\n",
    "s.push(1)\n",
    "s.mul()\n",
    "s.expression()"
   ]
  },
  {
   "cell_type": "code",
   "execution_count": 111,
   "metadata": {},
   "outputs": [
    {
     "name": "stdout",
     "output_type": "stream",
     "text": [
      "Enter the number of operations:\n",
      "4\n",
      "Enter operation name:\n",
      "PUSH\n",
      "Enter value to be pushed\n",
      "10\n",
      "Enter operation name:\n",
      "SUB\n",
      "Enter operation name:\n",
      "MUL\n",
      "Enter operation name:\n",
      "ADD\n"
     ]
    },
    {
     "data": {
      "text/plain": [
       "'(x2+(x1*(x0-10)))'"
      ]
     },
     "execution_count": 111,
     "metadata": {},
     "output_type": "execute_result"
    }
   ],
   "source": [
    "#taking input from the console\n",
    "print(\"Enter the number of operations:\")\n",
    "n = int(input())\n",
    "s = stacks()\n",
    "while n!=0:\n",
    "    print(\"Enter operation name:\")\n",
    "    op = input()\n",
    "    if op == \"PUSH\":\n",
    "        print(\"Enter value to be pushed\")\n",
    "        val = (int(input()))\n",
    "        s.push(val)\n",
    "    elif op == \"ADD\":\n",
    "        s.add()\n",
    "    elif op == \"SUB\":\n",
    "        s.sub()\n",
    "    elif op == \"MUL\":\n",
    "        s.mul()\n",
    "    elif op == \"SWAP\":\n",
    "        s.swap()\n",
    "    n -=1\n",
    "\n",
    "# print the output\n",
    "s.expression()"
   ]
  }
 ],
 "metadata": {
  "kernelspec": {
   "display_name": "Python 3",
   "language": "python",
   "name": "python3"
  },
  "language_info": {
   "codemirror_mode": {
    "name": "ipython",
    "version": 3
   },
   "file_extension": ".py",
   "mimetype": "text/x-python",
   "name": "python",
   "nbconvert_exporter": "python",
   "pygments_lexer": "ipython3",
   "version": "3.7.6"
  }
 },
 "nbformat": 4,
 "nbformat_minor": 4
}
