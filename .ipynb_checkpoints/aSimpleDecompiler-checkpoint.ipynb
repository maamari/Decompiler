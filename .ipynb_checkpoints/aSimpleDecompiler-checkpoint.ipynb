{
 "cells": [
  {
   "cell_type": "markdown",
   "metadata": {},
   "source": [
    "# A Simple Decoder"
   ]
  },
  {
   "cell_type": "markdown",
   "metadata": {},
   "source": [
    "Karime Maamari"
   ]
  },
  {
   "cell_type": "markdown",
   "metadata": {},
   "source": [
    "---"
   ]
  },
  {
   "cell_type": "markdown",
   "metadata": {},
   "source": [
    "This exercise is concerned with the \"decompilation\" of some set of the following input instructions:\n",
    "1. **PUSH N:** Pushes the given integer, N, onto the stack\n",
    "2. **ADD:** Pops the two top values from the stack, adds them, and pushes the result\n",
    "3. **SUB:** Pops the two top values from the stack, *subtracts* them, and pushes the result\n",
    "4. **MUL:** Pops the two top values from the stack, *multiplies* them, and pushes the result\n",
    "5. **SWAP:** Swaps the top two numbers from the stack"
   ]
  },
  {
   "cell_type": "markdown",
   "metadata": {},
   "source": [
    "As an example, consider the following set of commands:\n",
    "1. PUSH 1\n",
    "2. PUSH 2\n",
    "3. PUSH 3\n",
    "4. MUL\n",
    "5. ADD"
   ]
  },
  {
   "cell_type": "markdown",
   "metadata": {},
   "source": [
    "First, we push the values 1, 2, and 3 onto the stack"
   ]
  },
  {
   "cell_type": "code",
   "execution_count": 32,
   "metadata": {},
   "outputs": [
    {
     "name": "stdout",
     "output_type": "stream",
     "text": [
      "----\n",
      " 3 \n",
      "----\n",
      "\n",
      "----\n",
      " 2 \n",
      "----\n",
      "\n",
      "----\n",
      " 1 \n",
      "----\n",
      "\n"
     ]
    }
   ],
   "source": [
    "stack = [\"3\",\"2\",\"1\"]\n",
    "for instruction in stack:\n",
    "    print(\"----\\n\",instruction,\"\\n----\\n\")"
   ]
  },
  {
   "cell_type": "markdown",
   "metadata": {},
   "source": [
    "Then MUL pops off the top two terms and pushes their product onto the stack"
   ]
  },
  {
   "cell_type": "code",
   "execution_count": 33,
   "metadata": {},
   "outputs": [
    {
     "name": "stdout",
     "output_type": "stream",
     "text": [
      "----\n",
      " 6 \n",
      "----\n",
      "\n",
      "----\n",
      " 1 \n",
      "----\n",
      "\n"
     ]
    }
   ],
   "source": [
    "stack = [\"6\",\"1\"]\n",
    "for instruction in stack:\n",
    "    print(\"----\\n\",instruction,\"\\n----\\n\")"
   ]
  },
  {
   "cell_type": "markdown",
   "metadata": {},
   "source": [
    "And, finally, ADD pops off these two values and pushes their sum back onto the stack"
   ]
  },
  {
   "cell_type": "code",
   "execution_count": 34,
   "metadata": {},
   "outputs": [
    {
     "name": "stdout",
     "output_type": "stream",
     "text": [
      "----\n",
      " 7 \n",
      "----\n",
      "\n"
     ]
    }
   ],
   "source": [
    "print(\"----\\n\",7,\"\\n----\\n\")"
   ]
  },
  {
   "cell_type": "markdown",
   "metadata": {},
   "source": [
    "Continue to the input handler (two cells below) to use the decompiler"
   ]
  },
  {
   "cell_type": "markdown",
   "metadata": {},
   "source": [
    "---"
   ]
  },
  {
   "cell_type": "markdown",
   "metadata": {},
   "source": [
    "### The Decompiler class"
   ]
  },
  {
   "cell_type": "code",
   "execution_count": 2,
   "metadata": {},
   "outputs": [],
   "source": [
    "class Decompiler:\n",
    "    \n",
    "    def __init__(self):\n",
    "        \"\"\"\n",
    "        Object initialization\n",
    "        \n",
    "        Parameters:\n",
    "        -----------\n",
    "        stack: arr\n",
    "            The stack object to be manipulated\n",
    "        count: int\n",
    "            The variable identifier, instead of using different variable names, we use an identifier\n",
    "            Ex: x0, x1, x2, etc.\n",
    "        \"\"\"\n",
    "        \n",
    "        self.stack = []\n",
    "        self.count = 0\n",
    "        \n",
    "    def push(self, element):        \n",
    "        \"\"\"\n",
    "        Pushes element into stack\n",
    "        \n",
    "        Parameters:\n",
    "        -----------\n",
    "        element: int\n",
    "            value to be placed onto the stack\n",
    "        \"\"\"\n",
    "        \n",
    "        self.stack.append(str(element))\n",
    "        \n",
    "    def pop(self):\n",
    "        \"\"\"\n",
    "        Pops element from stack\n",
    "        \"\"\"\n",
    "        \n",
    "        if len(self.stack):\n",
    "            return self.stack.pop()\n",
    "        \n",
    "    def operationHelper(self, operation):\n",
    "        \"\"\"\n",
    "        Helper function for operations.\n",
    "        All operations require the general logic:\n",
    "            1. If two or more terms exist, operate between the terms\n",
    "            2. If one term exists, operate between term and variable\n",
    "            3. If no terms exist, operate between two variables\n",
    "        So we can generalize, feeding in the operation type as input\n",
    "        \n",
    "        Parameters:\n",
    "        -----------\n",
    "        operation: string\n",
    "            Type of operation (\"+\", \"-\", or \"*\")\n",
    "        \"\"\"\n",
    "        \n",
    "        stackLength = len(self.stack)\n",
    "        \n",
    "        # Normal operation between two terms\n",
    "        if stackLength >= 2:\n",
    "            firstTerm = self.pop()\n",
    "            secondTerm = self.pop()\n",
    "            if firstTerm.isnumeric() and secondTerm.isnumeric(): \n",
    "                if operation == \"+\":\n",
    "                    self.push(str(int(firstTerm) + int(secondTerm)))\n",
    "                if operation == \"-\":\n",
    "                    self.push(str(int(firstTerm) + int(secondTerm)))\n",
    "                if operation == \"*\":\n",
    "                    self.push(str(int(firstTerm) * int(secondTerm)))                    \n",
    "            else: \n",
    "                self.push(\"(\"+firstTerm+\"{}\".format(operation)+secondTerm+\")\")\n",
    "        \n",
    "        # Only one term on stack\n",
    "        elif stackLength == 1:\n",
    "            firstTerm = self.pop()\n",
    "            self.push(\"(x\"+str(self.count)+\"{}\".format(operation)+firstTerm+\")\")\n",
    "            self.count= self.count + 1\n",
    "            \n",
    "        # No terms on stack\n",
    "        else:\n",
    "            self.push(\"(x\"+str(self.count)+\"{}\".format(operation)+\"x\"+str(self.count+1)+\")\")\n",
    "            self.count+=2\n",
    "        \n",
    "    def add(self):\n",
    "        \"\"\"\n",
    "        Addition operation\n",
    "        \"\"\"\n",
    "        \n",
    "        self.operationHelper(\"+\")\n",
    "            \n",
    "    def sub(self):\n",
    "        \"\"\"\n",
    "        Subtraction operation\n",
    "        \"\"\"\n",
    "        \n",
    "        self.operationHelper(\"-\")\n",
    "            \n",
    "    def mul(self):\n",
    "        \"\"\"\n",
    "        Multiplication operation\n",
    "        \"\"\"\n",
    "\n",
    "        self.operationHelper(\"*\")\n",
    "            \n",
    "    def swap(self):\n",
    "        \"\"\"\n",
    "        Swap the 2 elements in the stack\n",
    "        \"\"\"\n",
    "        \n",
    "        if len(self.stack) >= 2:\n",
    "            firstTerm = self.pop()\n",
    "            secondTerm = self.pop()\n",
    "            self.push(firstTerm)\n",
    "            self.push(secondTerm)\n",
    "            \n",
    "    def expression(self):\n",
    "        \"\"\"\n",
    "        Returns:\n",
    "        -------\n",
    "        The expression based on the stack\n",
    "        \"\"\"\n",
    "        \n",
    "        return self.stack[0]"
   ]
  },
  {
   "cell_type": "markdown",
   "metadata": {},
   "source": [
    "### The input handler"
   ]
  },
  {
   "cell_type": "code",
   "execution_count": 23,
   "metadata": {
    "scrolled": true
   },
   "outputs": [
    {
     "name": "stdout",
     "output_type": "stream",
     "text": [
      "Enter operation name:\n",
      "\n",
      "  PUSH <N>: Push an integer, N, to the stack\n",
      "  ADD: Add values from the stack\n",
      "  SUB: Subtract values from the stack\n",
      "  MUL: Multiply values from the stack\n",
      "  SWAP: Swap values from the stack\n",
      "  END: Enter END when finished with commands\n",
      "\n",
      "SWAP\n",
      "END\n"
     ]
    }
   ],
   "source": [
    "s = Decompiler()\n",
    "print(\"Enter operation name:\\n\")\n",
    "print(\"  PUSH <N>: Push an integer, N, to the stack\")\n",
    "print(\"  ADD: Add values from the stack\")\n",
    "print(\"  SUB: Subtract values from the stack\")\n",
    "print(\"  MUL: Multiply values from the stack\")\n",
    "print(\"  SWAP: Swap values from the stack\")\n",
    "print(\"  END: Enter END when finished with commands\\n\")\n",
    "\n",
    "while True:\n",
    "    operation = input().split()\n",
    "    try:\n",
    "        if len(operation)>2:\n",
    "            print(\"Error, please limit entries to one operation per line\")\n",
    "            continue\n",
    "        if operation[0].upper() == \"PUSH\":\n",
    "            valueToPush = operation[1]\n",
    "            s.push(int(valueToPush))\n",
    "        elif operation[0].upper() == \"ADD\":\n",
    "            s.add()\n",
    "        elif operation[0].upper() == \"SUB\":\n",
    "            s.sub()\n",
    "        elif operation[0].upper() == \"MUL\":\n",
    "            s.mul()\n",
    "        elif operation[0].upper() == \"SWAP\":\n",
    "            s.swap()\n",
    "        elif operation[0].upper() == \"END\":\n",
    "            break      \n",
    "        else:\n",
    "            print(\"Error, please enter a valid operation:\\n  PUSH <n>, ADD, SUB, MUL, or SWAP\")\n",
    "    except:\n",
    "        print(\"Error, please enter a single keyword unless pushing, in which case enter the keyword \\\"PUSH\\\" followed by an integer\")\n",
    "if len(s.stack):\n",
    "    s.expression()"
   ]
  },
  {
   "cell_type": "markdown",
   "metadata": {},
   "source": [
    "---"
   ]
  },
  {
   "cell_type": "markdown",
   "metadata": {},
   "source": [
    "### Test cases"
   ]
  },
  {
   "cell_type": "code",
   "execution_count": 26,
   "metadata": {},
   "outputs": [
    {
     "data": {
      "text/plain": [
       "'3'"
      ]
     },
     "execution_count": 26,
     "metadata": {},
     "output_type": "execute_result"
    }
   ],
   "source": [
    "# Test 1: 1+2=3\n",
    "s = Decompiler()\n",
    "s.push(1)\n",
    "s.push(2)\n",
    "s.add()\n",
    "s.expression()"
   ]
  },
  {
   "cell_type": "code",
   "execution_count": 27,
   "metadata": {},
   "outputs": [
    {
     "data": {
      "text/plain": [
       "'7'"
      ]
     },
     "execution_count": 27,
     "metadata": {},
     "output_type": "execute_result"
    }
   ],
   "source": [
    "# Test 2: 1+2*3=7\n",
    "s = Decompiler()\n",
    "s.push(1)\n",
    "s.push(2)\n",
    "s.push(3)\n",
    "s.mul()\n",
    "s.add()\n",
    "s.expression()"
   ]
  },
  {
   "cell_type": "code",
   "execution_count": 28,
   "metadata": {},
   "outputs": [
    {
     "data": {
      "text/plain": [
       "'7'"
      ]
     },
     "execution_count": 28,
     "metadata": {},
     "output_type": "execute_result"
    }
   ],
   "source": [
    "# Test 3: 1+2*3=7\n",
    "s = Decompiler()\n",
    "s.push(2)\n",
    "s.push(3)\n",
    "s.mul()\n",
    "s.push(1)\n",
    "s.add()\n",
    "s.expression()"
   ]
  },
  {
   "cell_type": "code",
   "execution_count": 29,
   "metadata": {},
   "outputs": [
    {
     "data": {
      "text/plain": [
       "'(1+(x0*2))'"
      ]
     },
     "execution_count": 29,
     "metadata": {},
     "output_type": "execute_result"
    }
   ],
   "source": [
    "# Test 4: 1*2*x\n",
    "s = Decompiler()\n",
    "s.push(2)\n",
    "s.mul()\n",
    "s.push(1)\n",
    "s.add()\n",
    "s.expression()"
   ]
  },
  {
   "cell_type": "code",
   "execution_count": 30,
   "metadata": {},
   "outputs": [
    {
     "data": {
      "text/plain": [
       "'(x0-1)'"
      ]
     },
     "execution_count": 30,
     "metadata": {},
     "output_type": "execute_result"
    }
   ],
   "source": [
    "# Test 5: x-1\n",
    "s = Decompiler()\n",
    "s.push(1)\n",
    "s.sub()\n",
    "s.expression()"
   ]
  },
  {
   "cell_type": "code",
   "execution_count": 31,
   "metadata": {},
   "outputs": [
    {
     "data": {
      "text/plain": [
       "'5'"
      ]
     },
     "execution_count": 31,
     "metadata": {},
     "output_type": "execute_result"
    }
   ],
   "source": [
    "# Test 6: 2+1*3=5\n",
    "s = Decompiler()\n",
    "s.push(1)\n",
    "s.push(2)\n",
    "s.swap()\n",
    "s.push(3)\n",
    "s.mul()\n",
    "s.add()\n",
    "s.expression()"
   ]
  },
  {
   "cell_type": "code",
   "execution_count": 32,
   "metadata": {},
   "outputs": [
    {
     "data": {
      "text/plain": [
       "'(x2+(x0*x1))'"
      ]
     },
     "execution_count": 32,
     "metadata": {},
     "output_type": "execute_result"
    }
   ],
   "source": [
    "# Test 7: z+(x*y)\n",
    "s = Decompiler()\n",
    "s.mul()\n",
    "s.add()\n",
    "s.expression()"
   ]
  },
  {
   "cell_type": "code",
   "execution_count": 33,
   "metadata": {},
   "outputs": [
    {
     "data": {
      "text/plain": [
       "'1'"
      ]
     },
     "execution_count": 33,
     "metadata": {},
     "output_type": "execute_result"
    }
   ],
   "source": [
    "# Test 8: 1\n",
    "s = Decompiler()\n",
    "s.push(1)\n",
    "s.push(2)\n",
    "s.push(3)\n",
    "s.expression()"
   ]
  },
  {
   "cell_type": "code",
   "execution_count": 34,
   "metadata": {},
   "outputs": [],
   "source": [
    "# Test 9: Empty expression: Returns error, but in practice, the input handler would catch this\n",
    "s = Decompiler()\n",
    "# s.expression()"
   ]
  },
  {
   "cell_type": "code",
   "execution_count": 35,
   "metadata": {},
   "outputs": [],
   "source": [
    "# Test 10: Empty swap: Returns error, but in practice, input handler would catch this\n",
    "s = Decompiler()\n",
    "# s.swap()\n",
    "# s.expression()"
   ]
  },
  {
   "cell_type": "code",
   "execution_count": null,
   "metadata": {},
   "outputs": [],
   "source": []
  }
 ],
 "metadata": {
  "kernelspec": {
   "display_name": "Python 3",
   "language": "python",
   "name": "python3"
  },
  "language_info": {
   "codemirror_mode": {
    "name": "ipython",
    "version": 3
   },
   "file_extension": ".py",
   "mimetype": "text/x-python",
   "name": "python",
   "nbconvert_exporter": "python",
   "pygments_lexer": "ipython3",
   "version": "3.7.6"
  }
 },
 "nbformat": 4,
 "nbformat_minor": 4
}
